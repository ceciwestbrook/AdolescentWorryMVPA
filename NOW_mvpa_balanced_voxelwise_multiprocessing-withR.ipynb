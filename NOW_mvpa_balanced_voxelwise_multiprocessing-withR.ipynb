{
 "cells": [
  {
   "cell_type": "raw",
   "id": "bb8dfddd-3798-4a83-a2a2-87cb5d4201c1",
   "metadata": {},
   "source": [
    "# Code to process NOW data using MVPA.\n",
    "# Author: Ceci Westbrook, August-September 2024\n",
    "# Based on original code by Shabnam Hossein\n",
    "\n",
    "# Note: this uses the original processed data files rather than motion-censored files."
   ]
  },
  {
   "cell_type": "markdown",
   "id": "1f38c614-6f22-4f3b-98a1-e226a830effc",
   "metadata": {},
   "source": [
    "# Importing required libraries and functions"
   ]
  },
  {
   "cell_type": "code",
   "execution_count": 2,
   "id": "63e85fb2-189f-4d6f-b194-2b4d2048e654",
   "metadata": {},
   "outputs": [
    {
     "name": "stderr",
     "output_type": "stream",
     "text": [
      "/home/westbrookca2/.local/lib/python3.10/site-packages/matplotlib/projections/__init__.py:63: UserWarning: Unable to import Axes3D. This may be due to multiple versions of Matplotlib being installed (e.g. as a system package and as a pip package). As a result, the 3D projection is not available.\n",
      "  warnings.warn(\"Unable to import Axes3D. This may be due to multiple versions of \"\n"
     ]
    }
   ],
   "source": [
    "import numpy as np\n",
    "from matplotlib import pyplot as plt\n",
    "import os\n",
    "#pip install -U scikit-learn\n",
    "from sklearn.model_selection import train_test_split\n",
    "import csv\n",
    "import pandas as pd\n",
    "from numpy import mean\n",
    "from numpy import std\n",
    "import nibabel as nib\n",
    "from nilearn.maskers import NiftiLabelsMasker\n",
    "from nilearn import datasets\n",
    "import glob\n",
    "from sklearn.model_selection import train_test_split\n",
    "from sklearn.svm import SVR\n",
    "from sklearn.model_selection import RepeatedKFold\n",
    "from sklearn.model_selection import GridSearchCV\n",
    "import seaborn as sns\n",
    "import re"
   ]
  },
  {
   "cell_type": "markdown",
   "id": "65ca1f23-4942-426e-aea7-85ededac2bda",
   "metadata": {},
   "source": [
    "# Preparing data"
   ]
  },
  {
   "cell_type": "code",
   "execution_count": 3,
   "id": "bdf4e156-e368-448f-8032-3bf317e6516b",
   "metadata": {},
   "outputs": [
    {
     "name": "stdout",
     "output_type": "stream",
     "text": [
      "No processed folder: 109\n",
      "No processed folder: 236\n",
      "No processed folder: 266\n",
      "No processed folder: 329\n",
      "# No processed folder: 4\n",
      "# Empty folders: 0\n",
      "# Non-empty folders: 72\n"
     ]
    }
   ],
   "source": [
    "#Extracting all the subject IDs in the data directory \n",
    "#The subjects' files/IDs were all numeric and 3 digits long\n",
    "data_dir = \"/mnt/argo/Studies/NOW/Public/Analysis/data/\"\n",
    "folder_list = os.listdir(data_dir)\n",
    "folder_list = filter(lambda s: len(s) == 3 and s.isnumeric, folder_list)\n",
    "folder_list = list(folder_list)\n",
    "\n",
    "# counting number of directories with data - unusable subjects weren't processed\n",
    "empty_count = 0\n",
    "non_existent = 0\n",
    "folder_subject = []\n",
    "\n",
    "for i, folder in enumerate(folder_list):\n",
    "    ##All the imaging data that I need were in folders of this format\n",
    "    processed_folder = f'{data_dir}/{folder}/scan001/step02_Worry/FirstLevel_separate'\n",
    "    \n",
    "    ##The reward folder doesn't exist\n",
    "    if not os.path.exists(processed_folder):\n",
    "        non_existent += 1\n",
    "        print(f'No processed folder: {folder}')\n",
    "        continue\n",
    "        \n",
    "    ##The reward folder is empty\n",
    "    file_list = os.listdir(processed_folder)\n",
    "    if len(file_list) == 0:\n",
    "        empty_count += 1\n",
    "        continue\n",
    "        \n",
    "    folder_subject.append(folder)   #subjects who have reward data   \n",
    "    \n",
    "print(f'# No processed folder: {non_existent}')\n",
    "print(f'# Empty folders: {empty_count}')\n",
    "print(f'# Non-empty folders: {len(folder_list) - non_existent - empty_count}')"
   ]
  },
  {
   "cell_type": "markdown",
   "id": "b0e49915-cd3d-4cd0-bfd3-071ebd52fc32",
   "metadata": {},
   "source": [
    "# Loading in data and feature reduction\n",
    "## in this script we will train on W and N and test on R."
   ]
  },
  {
   "cell_type": "code",
   "execution_count": 8,
   "id": "91d2dc21-a3e3-4bfd-84c1-32a986f3452b",
   "metadata": {},
   "outputs": [
    {
     "name": "stdout",
     "output_type": "stream",
     "text": [
      "Processing subject: 101\n",
      "Processing subject: 102\n",
      "Processing subject: 103\n",
      "Processing subject: 104\n",
      "Processing subject: 105\n",
      "Processing subject: 106\n",
      "Processing subject: 107\n",
      "Processing subject: 108\n",
      "Processing subject: 110\n",
      "Processing subject: 111\n",
      "Processing subject: 112\n",
      "Processing subject: 113\n",
      "Processing subject: 117\n",
      "Processing subject: 119\n",
      "Processing subject: 122\n",
      "Processing subject: 123\n",
      "Processing subject: 124\n",
      "Processing subject: 125\n",
      "Processing subject: 126\n",
      "Processing subject: 127\n",
      "Processing subject: 128\n",
      "Processing subject: 129\n",
      "Processing subject: 131\n",
      "Processing subject: 132\n",
      "Processing subject: 133\n",
      "Processing subject: 134\n",
      "Processing subject: 135\n",
      "Processing subject: 136\n",
      "Processing subject: 137\n",
      "Processing subject: 138\n",
      "Processing subject: 139\n",
      "Processing subject: 140\n",
      "Processing subject: 201\n",
      "Processing subject: 203\n",
      "Processing subject: 205\n",
      "Processing subject: 206\n",
      "Processing subject: 207\n",
      "Processing subject: 209\n",
      "Processing subject: 210\n",
      "Processing subject: 211\n",
      "Processing subject: 212\n",
      "Processing subject: 217\n",
      "Processing subject: 226\n",
      "Processing subject: 234\n",
      "Processing subject: 235\n",
      "Processing subject: 238\n",
      "Processing subject: 244\n",
      "Processing subject: 247\n",
      "Processing subject: 251\n",
      "Processing subject: 254\n",
      "Processing subject: 264\n",
      "Processing subject: 269\n",
      "Processing subject: 270\n",
      "Processing subject: 271\n",
      "Processing subject: 284\n",
      "Processing subject: 286\n",
      "Processing subject: 290\n",
      "Processing subject: 293\n",
      "Processing subject: 304\n",
      "Processing subject: 305\n",
      "Processing subject: 307\n",
      "Processing subject: 316\n",
      "Processing subject: 317\n",
      "Processing subject: 319\n",
      "Processing subject: 325\n",
      "Processing subject: 328\n",
      "Processing subject: 331\n",
      "Processing subject: 333\n",
      "Processing subject: 335\n",
      "Processing subject: 339\n",
      "Processing subject: 342\n",
      "Processing subject: 348\n",
      "(2429, 489)\n"
     ]
    }
   ],
   "source": [
    "import nibabel as nib\n",
    "import numpy as np\n",
    "import glob\n",
    "import re\n",
    "\n",
    "# Load the mask (Schaefer 2018 atlas) and select parcels\n",
    "mask = nib.load('/home/westbrookca2/nilearn_data/schaefer_2018/rSchaefer2018_400Parcels_7Networks_order_FSLMNI152_2mm.nii')\n",
    "mask = mask.get_fdata()\n",
    "\n",
    "# Define the non-contiguous parcels to include (e.g., 190-195 and 392-400)\n",
    "selected_parcels = [192, 395] # roughly correspond to PCC\n",
    "\n",
    "# Create a binary mask for the selected parcels (True for selected parcels, False for others)\n",
    "subset_mask = np.isin(mask, selected_parcels)\n",
    "\n",
    "# Initialize lists to store data\n",
    "alldata = []\n",
    "allsubs = []\n",
    "alllabels = []\n",
    "\n",
    "# Loop through each subject\n",
    "for subj in folder_subject:\n",
    "    print(f\"Processing subject: {subj}\")\n",
    "    proc_dir = f'{data_dir}{subj}/scan001/step02_Worry/FirstLevel_separate_censorMotion/'\n",
    "    \n",
    "    # Get the condition files\n",
    "    worry_files = glob.glob(proc_dir + \"/beta*W*.nii*\")\n",
    "    reappraisal_files = glob.glob(proc_dir + \"/beta*R*.nii*\")\n",
    "    neutral_files = glob.glob(proc_dir + \"/beta*N*.nii*\")\n",
    "    \n",
    "    # Sort files by number extracted from filenames\n",
    "    if worry_files:\n",
    "        worry_files.sort(key=lambda f: int(re.search(r'_(W|R|N)(\\d{1,2})\\.nii', f).group(2)))\n",
    "    if reappraisal_files:\n",
    "        reappraisal_files.sort(key=lambda f: int(re.search(r'_(W|R|N)(\\d{1,2})\\.nii', f).group(2)))\n",
    "    if neutral_files:\n",
    "        neutral_files.sort(key=lambda f: int(re.search(r'_(W|R|N)(\\d{1,2})\\.nii', f).group(2)))\n",
    "    \n",
    "    # Loop through each condition if it's used\n",
    "    for condition_files, condition_label in zip([worry_files, neutral_files, reappraisal_files], [1, 2, 3]):\n",
    "        for file in condition_files:\n",
    "            filedata = nib.load(file)\n",
    "            filedata = filedata.get_fdata()\n",
    "            \n",
    "            # Initialize a list to hold the extracted feature data for this subject and condition\n",
    "            condition_data = []\n",
    "\n",
    "            # Extract the voxel values from the selected parcels for this file\n",
    "            for idx in selected_parcels:\n",
    "                parcel_data = filedata[subset_mask & (mask == idx)]  # Apply the subset mask for the selected parcels\n",
    "                condition_data.append(parcel_data)\n",
    "            \n",
    "            # Append the extracted data to alldata, along with the subject ID and condition label\n",
    "            alldata.append(np.concatenate(condition_data))  # Concatenate parcel data for this trial\n",
    "            allsubs.append(int(subj))  # Store subject ID\n",
    "            alllabels.append(condition_label)  # Store condition label\n",
    "\n",
    "# Convert labels to a numpy array\n",
    "testlabels = np.array(alllabels)\n",
    "\n",
    "# Reshape into a 2D array (each row corresponds to a trial/subject, each column a voxel/feature)\n",
    "testdata = np.array(alldata)  # Convert alldata list to a 2D numpy array\n",
    "print(testdata.shape)\n"
   ]
  },
  {
   "cell_type": "code",
   "execution_count": 10,
   "id": "73cb6181-3fc8-4107-bc64-990e9dc999c2",
   "metadata": {},
   "outputs": [
    {
     "data": {
      "image/png": "[encoded data removed]",
      "text/plain": [
       "<Figure size 640x480 with 1 Axes>"
      ]
     },
     "metadata": {},
     "output_type": "display_data"
    }
   ],
   "source": [
    "#Check for missing data (NaNs)\n",
    "missing_data_count = np.isnan(testdata).sum(axis=1)  # Sum of NaNs per row\n",
    "\n",
    "# Step 2: Create a histogram of NaN counts per entry\n",
    "plt.hist(missing_data_count, bins=20, color='skyblue', edgecolor='black')\n",
    "plt.title('Histogram of NaNs per Entry')\n",
    "plt.xlabel('Number of Missing Values')\n",
    "plt.ylabel('Number of Entries')\n",
    "plt.show()"
   ]
  },
  {
   "cell_type": "code",
   "execution_count": 11,
   "id": "179b8be4-b0e5-4f9d-9031-b6f1d855c25f",
   "metadata": {},
   "outputs": [
    {
     "name": "stdout",
     "output_type": "stream",
     "text": [
      "[[ 1.90676069  1.28546166  1.37217975 ...  1.11211801  0.79652089\n",
      "   0.97804004]\n",
      " [ 1.03780603  0.45109859  0.63615572 ... -0.21139055 -0.24098152\n",
      "  -0.29926962]\n",
      " [ 0.72188145  0.39421722  0.56956357 ... -0.39296615 -0.52536875\n",
      "  -0.66517699]\n",
      " ...\n",
      " [-2.88129115 -2.40382338 -2.6138289  ... -2.49045801 -2.27920532\n",
      "  -2.65424705]\n",
      " [-1.02136922 -1.13702655 -0.88074243 ... -0.17178266 -0.36299136\n",
      "  -0.0449677 ]\n",
      " [-1.98993111 -1.87736845 -2.2727828  ... -1.51971745 -1.74100983\n",
      "  -1.28633499]]\n"
     ]
    }
   ],
   "source": [
    "# no entry missing more than 4 bins, so OK to do imputation across all\n",
    "# Impute missing values with the mean of each column\n",
    "from sklearn.experimental import enable_iterative_imputer\n",
    "from sklearn.impute import IterativeImputer\n",
    "\n",
    "# Create an imputer object\n",
    "imputer = IterativeImputer()\n",
    "\n",
    "# Fit the imputer on the dataset and transform it\n",
    "testdata_imputed = imputer.fit_transform(testdata)\n",
    "\n",
    "print(testdata_imputed)"
   ]
  },
  {
   "cell_type": "markdown",
   "id": "857d894a-6613-4562-8365-8ee11716cca7",
   "metadata": {},
   "source": [
    "# Train and test model with nested cross-validation:"
   ]
  },
  {
   "cell_type": "code",
   "execution_count": 13,
   "id": "00939896-c529-47b4-8ff6-95311e20ba46",
   "metadata": {
    "scrolled": true
   },
   "outputs": [
    {
     "name": "stdout",
     "output_type": "stream",
     "text": [
      "Starting Outer Loop for Group: 101...Starting Outer Loop for Group: 102...Starting Outer Loop for Group: 103...Starting Outer Loop for Group: 106...Starting Outer Loop for Group: 104...Starting Outer Loop for Group: 107...Starting Outer Loop for Group: 105...\n",
      "Starting Outer Loop for Group: 111...Starting Outer Loop for Group: 108...Starting Outer Loop for Group: 110...\n",
      "Starting Outer Loop for Group: 113...Starting Outer Loop for Group: 117...Starting Outer Loop for Group: 112...\n",
      "Starting Outer Loop for Group: 119...Starting Outer Loop for Group: 122...Starting Outer Loop for Group: 125...Starting Outer Loop for Group: 123...\n",
      "\n",
      "\n",
      "\n",
      "\n",
      "Starting Outer Loop for Group: 126...Starting Outer Loop for Group: 127...\n",
      "\n",
      "Starting Outer Loop for Group: 124...Starting Outer Loop for Group: 128...\n",
      "Starting Outer Loop for Group: 129...Starting Outer Loop for Group: 132...\n",
      "\n",
      "Starting Outer Loop for Group: 133...\n",
      "Starting Outer Loop for Group: 131...Starting Outer Loop for Group: 134...\n",
      "\n",
      "\n",
      "Starting Outer Loop for Group: 136...Starting Outer Loop for Group: 135...Starting Outer Loop for Group: 137...Starting Outer Loop for Group: 138...Starting Outer Loop for Group: 139...Starting Outer Loop for Group: 140...Starting Outer Loop for Group: 201...\n",
      "Starting Outer Loop for Group: 203...\n",
      "Starting Outer Loop for Group: 205...Starting Outer Loop for Group: 206...\n",
      "Starting Outer Loop for Group: 207...Starting Outer Loop for Group: 209...\n",
      "\n",
      "\n",
      "Starting Outer Loop for Group: 211...Starting Outer Loop for Group: 210...Starting Outer Loop for Group: 212...\n",
      "\n",
      "Starting Outer Loop for Group: 217...\n",
      "Starting Outer Loop for Group: 234...Starting Outer Loop for Group: 226...\n",
      "\n",
      "Starting Outer Loop for Group: 235...\n",
      "Starting Outer Loop for Group: 238...Starting Outer Loop for Group: 251...Starting Outer Loop for Group: 254...Starting Outer Loop for Group: 244...\n",
      "Starting Outer Loop for Group: 247...Starting Outer Loop for Group: 264...\n",
      "\n",
      "Starting Outer Loop for Group: 269...\n",
      "\n",
      "Starting Outer Loop for Group: 270...Starting Outer Loop for Group: 271...\n",
      "\n",
      "Starting Outer Loop for Group: 286...Starting Outer Loop for Group: 284...Starting Outer Loop for Group: 290...\n",
      "Starting Outer Loop for Group: 293...Starting Outer Loop for Group: 304...\n",
      "Starting Outer Loop for Group: 305...\n",
      "\n",
      "Starting Outer Loop for Group: 307...\n",
      "Starting Outer Loop for Group: 316...Starting Outer Loop for Group: 317...Starting Outer Loop for Group: 319...\n",
      "Starting Outer Loop for Group: 325...Starting Outer Loop for Group: 333...\n",
      "Starting Outer Loop for Group: 328...Starting Outer Loop for Group: 331...\n",
      "Starting Outer Loop for Group: 335...\n",
      "Starting Outer Loop for Group: 339...\n",
      "\n",
      "\n",
      "Starting Outer Loop for Group: 342...Starting Outer Loop for Group: 348...Unique values in y_train for Group 101: [1 2]\n",
      "\n",
      "\n",
      "\n",
      "\n",
      "\n",
      "\n",
      "\n",
      "\n",
      "\n",
      "Unique values in y_train for Group 111: [1 2]Unique values in y_train for Group 107: [1 2]Unique values in y_train for Group 102: [1 2]Unique values in y_train for Group 103: [1 2]\n",
      "Unique values in y_train for Group 104: [1 2]\n",
      "Unique values in y_train for Group 106: [1 2]\n",
      "\n",
      "\n",
      "\n",
      "\n",
      "\n",
      "\n",
      "\n",
      "Unique values in y_train for Group 131: [1 2]\n",
      "\n",
      "Unique values in y_train for Group 112: [1 2]Unique values in y_train for Group 108: [1 2]Unique values in y_train for Group 110: [1 2]Unique values in y_train for Group 117: [1 2]Unique values in y_train for Group 105: [1 2]\n",
      "\n",
      "\n",
      "Unique values in y_train for Group 119: [1 2]Unique values in y_train for Group 122: [1 2]Unique values in y_train for Group 123: [1 2]Unique values in y_train for Group 113: [1 2]\n",
      "Unique values in y_train for Group 125: [1 2]\n",
      "\n",
      "\n",
      "\n",
      "Unique values in y_train for Group 133: [1 2]Unique values in y_train for Group 126: [1 2]Unique values in y_train for Group 135: [1 2]\n",
      "Unique values in y_train for Group 124: [1 2]Unique values in y_train for Group 127: [1 2]Unique values in y_train for Group 136: [1 2]\n",
      "\n",
      "\n",
      "Unique values in y_train for Group 137: [1 2]\n",
      "Unique values in y_train for Group 128: [1 2]\n",
      "Unique values in y_train for Group 134: [1 2]Unique values in y_train for Group 132: [1 2]Unique values in y_train for Group 210: [1 2]\n",
      "Unique values in y_train for Group 129: [1 2]\n",
      "\n",
      "\n",
      "\n",
      "\n",
      "\n",
      "\n",
      "\n",
      "\n",
      "Unique values in y_train for Group 140: [1 2]\n",
      "\n",
      "Unique values in y_train for Group 270: [1 2]  Running RandomizedSearchCV for Group: 101...\n",
      "\n",
      "Unique values in y_train for Group 209: [1 2]Unique values in y_train for Group 139: [1 2]  Running RandomizedSearchCV for Group: 111...Unique values in y_train for Group 203: [1 2]Unique values in y_train for Group 207: [1 2]Unique values in y_train for Group 205: [1 2]\n",
      "  Running RandomizedSearchCV for Group: 102...Unique values in y_train for Group 206: [1 2]\n",
      "  Running RandomizedSearchCV for Group: 103...  Running RandomizedSearchCV for Group: 107...\n",
      "  Running RandomizedSearchCV for Group: 106...\n",
      "  Running RandomizedSearchCV for Group: 131...  Running RandomizedSearchCV for Group: 104...  Running RandomizedSearchCV for Group: 112...Unique values in y_train for Group 138: [1 2]  Running RandomizedSearchCV for Group: 108...Unique values in y_train for Group 217: [1 2]\n",
      "  Running RandomizedSearchCV for Group: 110...\n",
      "Unique values in y_train for Group 226: [1 2]Unique values in y_train for Group 211: [1 2]Unique values in y_train for Group 212: [1 2]Unique values in y_train for Group 201: [1 2]Unique values in y_train for Group 234: [1 2]  Running RandomizedSearchCV for Group: 117...\n",
      "\n",
      "  Running RandomizedSearchCV for Group: 123...Unique values in y_train for Group 238: [1 2]Unique values in y_train for Group 254: [1 2]\n",
      "\n",
      "\n",
      "Unique values in y_train for Group 307: [1 2]  Running RandomizedSearchCV for Group: 133...  Running RandomizedSearchCV for Group: 135...\n",
      "\n",
      "  Running RandomizedSearchCV for Group: 126...\n",
      "  Running RandomizedSearchCV for Group: 122...\n",
      "  Running RandomizedSearchCV for Group: 119...  Running RandomizedSearchCV for Group: 105...  Running RandomizedSearchCV for Group: 136...\n",
      "  Running RandomizedSearchCV for Group: 125...\n",
      "  Running RandomizedSearchCV for Group: 127...\n",
      "  Running RandomizedSearchCV for Group: 128...  Running RandomizedSearchCV for Group: 124...  Running RandomizedSearchCV for Group: 113...\n",
      "Unique values in y_train for Group 284: [1 2]  Running RandomizedSearchCV for Group: 137...\n",
      "Unique values in y_train for Group 244: [1 2]\n",
      "Unique values in y_train for Group 264: [1 2]\n",
      "Unique values in y_train for Group 305: [1 2]\n",
      "Unique values in y_train for Group 251: [1 2]Unique values in y_train for Group 235: [1 2]  Running RandomizedSearchCV for Group: 210...Unique values in y_train for Group 271: [1 2]Unique values in y_train for Group 269: [1 2]\n",
      "Unique values in y_train for Group 290: [1 2]Unique values in y_train for Group 293: [1 2]\n",
      "Unique values in y_train for Group 304: [1 2]Unique values in y_train for Group 286: [1 2]Unique values in y_train for Group 247: [1 2]\n",
      "  Running RandomizedSearchCV for Group: 134...\n",
      "Unique values in y_train for Group 319: [1 2]Unique values in y_train for Group 333: [1 2]  Running RandomizedSearchCV for Group: 129...\n",
      "  Running RandomizedSearchCV for Group: 132...\n",
      "Unique values in y_train for Group 342: [1 2]\n",
      "Unique values in y_train for Group 328: [1 2]Unique values in y_train for Group 325: [1 2]\n",
      "Unique values in y_train for Group 316: [1 2]Unique values in y_train for Group 339: [1 2]Unique values in y_train for Group 348: [1 2]Unique values in y_train for Group 317: [1 2]\n",
      "Unique values in y_train for Group 331: [1 2]Unique values in y_train for Group 335: [1 2]\n",
      "\n",
      "  Running RandomizedSearchCV for Group: 140...  Running RandomizedSearchCV for Group: 270...\n",
      "\n",
      "\n",
      "\n",
      "\n",
      "  Running RandomizedSearchCV for Group: 209...\n",
      "\n",
      "\n",
      "  Running RandomizedSearchCV for Group: 139...  Running RandomizedSearchCV for Group: 203...\n",
      "\n",
      "  Running RandomizedSearchCV for Group: 207...\n",
      "  Running RandomizedSearchCV for Group: 205...\n",
      "\n",
      "\n",
      "\n",
      "\n",
      "  Running RandomizedSearchCV for Group: 206...\n",
      "\n",
      "\n",
      "\n",
      "\n",
      "\n",
      "\n",
      "\n",
      "\n",
      "\n",
      "\n",
      "\n",
      "\n",
      "\n",
      "  Running RandomizedSearchCV for Group: 138...\n",
      "\n",
      "  Running RandomizedSearchCV for Group: 217...\n",
      "\n",
      "\n",
      "\n",
      "\n",
      "\n",
      "\n",
      "  Running RandomizedSearchCV for Group: 226...\n",
      "  Running RandomizedSearchCV for Group: 212...  Running RandomizedSearchCV for Group: 211...\n",
      "\n",
      "  Running RandomizedSearchCV for Group: 201...\n",
      "  Running RandomizedSearchCV for Group: 234...\n",
      "\n",
      "\n",
      "\n",
      "\n",
      "  Running RandomizedSearchCV for Group: 254...  Running RandomizedSearchCV for Group: 307...  Running RandomizedSearchCV for Group: 238...\n",
      "\n",
      "  Running RandomizedSearchCV for Group: 284...  Running RandomizedSearchCV for Group: 244...\n",
      "  Running RandomizedSearchCV for Group: 305...\n",
      "  Running RandomizedSearchCV for Group: 251...  Running RandomizedSearchCV for Group: 271...  Running RandomizedSearchCV for Group: 264...  Running RandomizedSearchCV for Group: 290...  Running RandomizedSearchCV for Group: 235...  Running RandomizedSearchCV for Group: 269...  Running RandomizedSearchCV for Group: 247...  Running RandomizedSearchCV for Group: 286...  Running RandomizedSearchCV for Group: 304...\n",
      "  Running RandomizedSearchCV for Group: 293...  Running RandomizedSearchCV for Group: 333...\n",
      "\n",
      "  Running RandomizedSearchCV for Group: 319...\n",
      "  Running RandomizedSearchCV for Group: 316...\n",
      "  Running RandomizedSearchCV for Group: 342...  Running RandomizedSearchCV for Group: 325...  Running RandomizedSearchCV for Group: 328...  Running RandomizedSearchCV for Group: 348...  Running RandomizedSearchCV for Group: 317...  Running RandomizedSearchCV for Group: 339...  Running RandomizedSearchCV for Group: 335...\n",
      "\n",
      "  Running RandomizedSearchCV for Group: 331...\n",
      "\n",
      "\n",
      "\n",
      "\n",
      "\n",
      "\n",
      "\n",
      "\n",
      "\n",
      "\n",
      "\n",
      "\n",
      "\n",
      "\n",
      "\n",
      "\n",
      "\n",
      "\n",
      "\n",
      "\n",
      "\n",
      "\n",
      "\n",
      "\n"
     ]
    },
    {
     "name": "stderr",
     "output_type": "stream",
     "text": [
      "/home/westbrookca2/.local/lib/python3.10/site-packages/numpy/ma/core.py:2846: RuntimeWarning: invalid value encountered in cast\n",
      "  _data = np.array(data, dtype=dtype, copy=copy,\n"
     ]
    },
    {
     "name": "stdout",
     "output_type": "stream",
     "text": [
      "  Finished RandomizedSearchCV for Group: 331. Best Params: {'n_estimators': 150, 'max_samples': 38, 'max_features': 58}\n",
      "  Completed processing for Group: 331.\n"
     ]
    },
    {
     "name": "stderr",
     "output_type": "stream",
     "text": [
      "/home/westbrookca2/.local/lib/python3.10/site-packages/numpy/ma/core.py:2846: RuntimeWarning: invalid value encountered in cast\n",
      "  _data = np.array(data, dtype=dtype, copy=copy,\n"
     ]
    },
    {
     "name": "stdout",
     "output_type": "stream",
     "text": [
      "  Finished RandomizedSearchCV for Group: 101. Best Params: {'n_estimators': 650, 'max_samples': 24, 'max_features': 4}\n",
      "  Completed processing for Group: 101.\n"
     ]
    },
    {
     "name": "stderr",
     "output_type": "stream",
     "text": [
      "/home/westbrookca2/.local/lib/python3.10/site-packages/numpy/ma/core.py:2846: RuntimeWarning: invalid value encountered in cast\n",
      "  _data = np.array(data, dtype=dtype, copy=copy,\n"
     ]
    },
    {
     "name": "stdout",
     "output_type": "stream",
     "text": [
      "  Finished RandomizedSearchCV for Group: 307. Best Params: {'n_estimators': 4350, 'max_samples': 12, 'max_features': 2}\n",
      "  Completed processing for Group: 307.\n"
     ]
    },
    {
     "name": "stderr",
     "output_type": "stream",
     "text": [
      "/home/westbrookca2/.local/lib/python3.10/site-packages/numpy/ma/core.py:2846: RuntimeWarning: invalid value encountered in cast\n",
      "  _data = np.array(data, dtype=dtype, copy=copy,\n"
     ]
    },
    {
     "name": "stdout",
     "output_type": "stream",
     "text": [
      "  Finished RandomizedSearchCV for Group: 138. Best Params: {'n_estimators': 3050, 'max_samples': 38, 'max_features': 4}\n",
      "  Completed processing for Group: 138.\n"
     ]
    },
    {
     "name": "stderr",
     "output_type": "stream",
     "text": [
      "/home/westbrookca2/.local/lib/python3.10/site-packages/numpy/ma/core.py:2846: RuntimeWarning: invalid value encountered in cast\n",
      "  _data = np.array(data, dtype=dtype, copy=copy,\n"
     ]
    },
    {
     "name": "stdout",
     "output_type": "stream",
     "text": [
      "  Finished RandomizedSearchCV for Group: 128. Best Params: {'n_estimators': 1700, 'max_samples': 34, 'max_features': 16}\n"
     ]
    },
    {
     "name": "stderr",
     "output_type": "stream",
     "text": [
      "/home/westbrookca2/.local/lib/python3.10/site-packages/numpy/ma/core.py:2846: RuntimeWarning: invalid value encountered in cast\n",
      "  _data = np.array(data, dtype=dtype, copy=copy,\n"
     ]
    },
    {
     "name": "stdout",
     "output_type": "stream",
     "text": [
      "  Finished RandomizedSearchCV for Group: 348. Best Params: {'n_estimators': 600, 'max_samples': 12, 'max_features': 28}\n",
      "  Completed processing for Group: 128.\n",
      "  Completed processing for Group: 348.\n"
     ]
    },
    {
     "name": "stderr",
     "output_type": "stream",
     "text": [
      "/home/westbrookca2/.local/lib/python3.10/site-packages/numpy/ma/core.py:2846: RuntimeWarning: invalid value encountered in cast\n",
      "  _data = np.array(data, dtype=dtype, copy=copy,\n"
     ]
    },
    {
     "name": "stdout",
     "output_type": "stream",
     "text": [
      "  Finished RandomizedSearchCV for Group: 136. Best Params: {'n_estimators': 1600, 'max_samples': 14, 'max_features': 80}\n",
      "  Completed processing for Group: 136.\n"
     ]
    },
    {
     "name": "stderr",
     "output_type": "stream",
     "text": [
      "/home/westbrookca2/.local/lib/python3.10/site-packages/numpy/ma/core.py:2846: RuntimeWarning: invalid value encountered in cast\n",
      "  _data = np.array(data, dtype=dtype, copy=copy,\n",
      "/home/westbrookca2/.local/lib/python3.10/site-packages/numpy/ma/core.py:2846: RuntimeWarning: invalid value encountered in cast\n",
      "  _data = np.array(data, dtype=dtype, copy=copy,\n"
     ]
    },
    {
     "name": "stdout",
     "output_type": "stream",
     "text": [
      "  Finished RandomizedSearchCV for Group: 209. Best Params: {'n_estimators': 500, 'max_samples': 26, 'max_features': 36}\n",
      "  Finished RandomizedSearchCV for Group: 140. Best Params: {'n_estimators': 650, 'max_samples': 22, 'max_features': 2}\n",
      "  Completed processing for Group: 140.\n",
      "  Completed processing for Group: 209.\n"
     ]
    },
    {
     "name": "stderr",
     "output_type": "stream",
     "text": [
      "/home/westbrookca2/.local/lib/python3.10/site-packages/numpy/ma/core.py:2846: RuntimeWarning: invalid value encountered in cast\n",
      "  _data = np.array(data, dtype=dtype, copy=copy,\n"
     ]
    },
    {
     "name": "stdout",
     "output_type": "stream",
     "text": [
      "  Finished RandomizedSearchCV for Group: 342. Best Params: {'n_estimators': 1550, 'max_samples': 36, 'max_features': 14}\n",
      "  Completed processing for Group: 342.\n"
     ]
    },
    {
     "name": "stderr",
     "output_type": "stream",
     "text": [
      "/home/westbrookca2/.local/lib/python3.10/site-packages/numpy/ma/core.py:2846: RuntimeWarning: invalid value encountered in cast\n",
      "  _data = np.array(data, dtype=dtype, copy=copy,\n"
     ]
    },
    {
     "name": "stdout",
     "output_type": "stream",
     "text": [
      "  Finished RandomizedSearchCV for Group: 316. Best Params: {'n_estimators': 250, 'max_samples': 20, 'max_features': 76}\n",
      "  Completed processing for Group: 316.\n"
     ]
    },
    {
     "name": "stderr",
     "output_type": "stream",
     "text": [
      "/home/westbrookca2/.local/lib/python3.10/site-packages/numpy/ma/core.py:2846: RuntimeWarning: invalid value encountered in cast\n",
      "  _data = np.array(data, dtype=dtype, copy=copy,\n",
      "/home/westbrookca2/.local/lib/python3.10/site-packages/numpy/ma/core.py:2846: RuntimeWarning: invalid value encountered in cast\n",
      "  _data = np.array(data, dtype=dtype, copy=copy,\n"
     ]
    },
    {
     "name": "stdout",
     "output_type": "stream",
     "text": [
      "  Finished RandomizedSearchCV for Group: 203. Best Params: {'n_estimators': 600, 'max_samples': 36, 'max_features': 62}\n",
      "  Finished RandomizedSearchCV for Group: 117. Best Params: {'n_estimators': 2350, 'max_samples': 36, 'max_features': 74}\n",
      "  Completed processing for Group: 203.\n"
     ]
    },
    {
     "name": "stderr",
     "output_type": "stream",
     "text": [
      "/home/westbrookca2/.local/lib/python3.10/site-packages/numpy/ma/core.py:2846: RuntimeWarning: invalid value encountered in cast\n",
      "  _data = np.array(data, dtype=dtype, copy=copy,\n"
     ]
    },
    {
     "name": "stdout",
     "output_type": "stream",
     "text": [
      "  Finished RandomizedSearchCV for Group: 304. Best Params: {'n_estimators': 150, 'max_samples': 18, 'max_features': 24}\n",
      "  Completed processing for Group: 304.\n"
     ]
    },
    {
     "name": "stderr",
     "output_type": "stream",
     "text": [
      "/home/westbrookca2/.local/lib/python3.10/site-packages/numpy/ma/core.py:2846: RuntimeWarning: invalid value encountered in cast\n",
      "  _data = np.array(data, dtype=dtype, copy=copy,\n"
     ]
    },
    {
     "name": "stdout",
     "output_type": "stream",
     "text": [
      "  Completed processing for Group: 117.\n",
      "  Finished RandomizedSearchCV for Group: 125. Best Params: {'n_estimators': 150, 'max_samples': 18, 'max_features': 62}\n",
      "  Completed processing for Group: 125.\n"
     ]
    },
    {
     "name": "stderr",
     "output_type": "stream",
     "text": [
      "/home/westbrookca2/.local/lib/python3.10/site-packages/numpy/ma/core.py:2846: RuntimeWarning: invalid value encountered in cast\n",
      "  _data = np.array(data, dtype=dtype, copy=copy,\n"
     ]
    },
    {
     "name": "stdout",
     "output_type": "stream",
     "text": [
      "  Finished RandomizedSearchCV for Group: 119. Best Params: {'n_estimators': 150, 'max_samples': 18, 'max_features': 62}\n"
     ]
    },
    {
     "name": "stderr",
     "output_type": "stream",
     "text": [
      "/home/westbrookca2/.local/lib/python3.10/site-packages/numpy/ma/core.py:2846: RuntimeWarning: invalid value encountered in cast\n",
      "  _data = np.array(data, dtype=dtype, copy=copy,\n"
     ]
    },
    {
     "name": "stdout",
     "output_type": "stream",
     "text": [
      "  Completed processing for Group: 119.\n"
     ]
    },
    {
     "name": "stderr",
     "output_type": "stream",
     "text": [
      "/home/westbrookca2/.local/lib/python3.10/site-packages/numpy/ma/core.py:2846: RuntimeWarning: invalid value encountered in cast\n",
      "  _data = np.array(data, dtype=dtype, copy=copy,\n"
     ]
    },
    {
     "name": "stdout",
     "output_type": "stream",
     "text": [
      "  Finished RandomizedSearchCV for Group: 110. Best Params: {'n_estimators': 100, 'max_samples': 36, 'max_features': 8}\n",
      "  Completed processing for Group: 110.\n",
      "  Finished RandomizedSearchCV for Group: 328. Best Params: {'n_estimators': 4700, 'max_samples': 38, 'max_features': 10}\n",
      "  Completed processing for Group: 328.\n"
     ]
    },
    {
     "name": "stderr",
     "output_type": "stream",
     "text": [
      "/home/westbrookca2/.local/lib/python3.10/site-packages/numpy/ma/core.py:2846: RuntimeWarning: invalid value encountered in cast\n",
      "  _data = np.array(data, dtype=dtype, copy=copy,\n"
     ]
    },
    {
     "name": "stdout",
     "output_type": "stream",
     "text": [
      "  Finished RandomizedSearchCV for Group: 137. Best Params: {'n_estimators': 500, 'max_samples': 24, 'max_features': 20}\n",
      "  Completed processing for Group: 137.\n"
     ]
    },
    {
     "name": "stderr",
     "output_type": "stream",
     "text": [
      "/home/westbrookca2/.local/lib/python3.10/site-packages/numpy/ma/core.py:2846: RuntimeWarning: invalid value encountered in cast\n",
      "  _data = np.array(data, dtype=dtype, copy=copy,\n"
     ]
    },
    {
     "name": "stdout",
     "output_type": "stream",
     "text": [
      "  Finished RandomizedSearchCV for Group: 305. Best Params: {'n_estimators': 200, 'max_samples': 18, 'max_features': 6}\n",
      "  Completed processing for Group: 305.\n"
     ]
    },
    {
     "name": "stderr",
     "output_type": "stream",
     "text": [
      "/home/westbrookca2/.local/lib/python3.10/site-packages/numpy/ma/core.py:2846: RuntimeWarning: invalid value encountered in cast\n",
      "  _data = np.array(data, dtype=dtype, copy=copy,\n"
     ]
    },
    {
     "name": "stdout",
     "output_type": "stream",
     "text": [
      "  Finished RandomizedSearchCV for Group: 238. Best Params: {'n_estimators': 4600, 'max_samples': 30, 'max_features': 2}\n",
      "  Completed processing for Group: 238.\n"
     ]
    },
    {
     "name": "stderr",
     "output_type": "stream",
     "text": [
      "/home/westbrookca2/.local/lib/python3.10/site-packages/numpy/ma/core.py:2846: RuntimeWarning: invalid value encountered in cast\n",
      "  _data = np.array(data, dtype=dtype, copy=copy,\n"
     ]
    },
    {
     "name": "stdout",
     "output_type": "stream",
     "text": [
      "  Finished RandomizedSearchCV for Group: 244. Best Params: {'n_estimators': 3850, 'max_samples': 32, 'max_features': 2}\n",
      "  Completed processing for Group: 244.\n"
     ]
    },
    {
     "name": "stderr",
     "output_type": "stream",
     "text": [
      "/home/westbrookca2/.local/lib/python3.10/site-packages/numpy/ma/core.py:2846: RuntimeWarning: invalid value encountered in cast\n",
      "  _data = np.array(data, dtype=dtype, copy=copy,\n"
     ]
    },
    {
     "name": "stdout",
     "output_type": "stream",
     "text": [
      "  Finished RandomizedSearchCV for Group: 254. Best Params: {'n_estimators': 4600, 'max_samples': 30, 'max_features': 2}\n",
      "  Completed processing for Group: 254.\n",
      "  Finished RandomizedSearchCV for Group: 271. Best Params: {'n_estimators': 4650, 'max_samples': 20, 'max_features': 4}\n",
      "  Completed processing for Group: 271.\n",
      "  Finished RandomizedSearchCV for Group: 107. Best Params: {'n_estimators': 300, 'max_samples': 32, 'max_features': 86}\n"
     ]
    },
    {
     "name": "stderr",
     "output_type": "stream",
     "text": [
      "/home/westbrookca2/.local/lib/python3.10/site-packages/numpy/ma/core.py:2846: RuntimeWarning: invalid value encountered in cast\n",
      "  _data = np.array(data, dtype=dtype, copy=copy,\n"
     ]
    },
    {
     "name": "stdout",
     "output_type": "stream",
     "text": [
      "  Finished RandomizedSearchCV for Group: 284. Best Params: {'n_estimators': 1000, 'max_samples': 12, 'max_features': 2}\n",
      "  Completed processing for Group: 284.\n",
      "  Completed processing for Group: 107.\n"
     ]
    },
    {
     "name": "stderr",
     "output_type": "stream",
     "text": [
      "/home/westbrookca2/.local/lib/python3.10/site-packages/numpy/ma/core.py:2846: RuntimeWarning: invalid value encountered in cast\n",
      "  _data = np.array(data, dtype=dtype, copy=copy,\n",
      "/home/westbrookca2/.local/lib/python3.10/site-packages/numpy/ma/core.py:2846: RuntimeWarning: invalid value encountered in cast\n",
      "  _data = np.array(data, dtype=dtype, copy=copy,\n"
     ]
    },
    {
     "name": "stdout",
     "output_type": "stream",
     "text": [
      "  Finished RandomizedSearchCV for Group: 124. Best Params: {'n_estimators': 2350, 'max_samples': 28, 'max_features': 22}\n"
     ]
    },
    {
     "name": "stderr",
     "output_type": "stream",
     "text": [
      "/home/westbrookca2/.local/lib/python3.10/site-packages/numpy/ma/core.py:2846: RuntimeWarning: invalid value encountered in cast\n",
      "  _data = np.array(data, dtype=dtype, copy=copy,\n"
     ]
    },
    {
     "name": "stdout",
     "output_type": "stream",
     "text": [
      "  Finished RandomizedSearchCV for Group: 269. Best Params: {'n_estimators': 1700, 'max_samples': 38, 'max_features': 2}\n",
      "  Completed processing for Group: 269.\n",
      "  Completed processing for Group: 124.\n",
      "  Finished RandomizedSearchCV for Group: 106. Best Params: {'n_estimators': 1800, 'max_samples': 10, 'max_features': 58}\n",
      "  Completed processing for Group: 106.\n"
     ]
    },
    {
     "name": "stderr",
     "output_type": "stream",
     "text": [
      "/home/westbrookca2/.local/lib/python3.10/site-packages/numpy/ma/core.py:2846: RuntimeWarning: invalid value encountered in cast\n",
      "  _data = np.array(data, dtype=dtype, copy=copy,\n"
     ]
    },
    {
     "name": "stdout",
     "output_type": "stream",
     "text": [
      "  Finished RandomizedSearchCV for Group: 210. Best Params: {'n_estimators': 1750, 'max_samples': 14, 'max_features': 6}\n",
      "  Completed processing for Group: 210.\n",
      "  Finished RandomizedSearchCV for Group: 135. Best Params: {'n_estimators': 700, 'max_samples': 36, 'max_features': 66}\n",
      "  Completed processing for Group: 135.\n"
     ]
    },
    {
     "name": "stderr",
     "output_type": "stream",
     "text": [
      "/home/westbrookca2/.local/lib/python3.10/site-packages/numpy/ma/core.py:2846: RuntimeWarning: invalid value encountered in cast\n",
      "  _data = np.array(data, dtype=dtype, copy=copy,\n"
     ]
    },
    {
     "name": "stdout",
     "output_type": "stream",
     "text": [
      "  Finished RandomizedSearchCV for Group: 108. Best Params: {'n_estimators': 350, 'max_samples': 16, 'max_features': 84}\n",
      "  Completed processing for Group: 108.\n"
     ]
    },
    {
     "name": "stderr",
     "output_type": "stream",
     "text": [
      "/home/westbrookca2/.local/lib/python3.10/site-packages/numpy/ma/core.py:2846: RuntimeWarning: invalid value encountered in cast\n",
      "  _data = np.array(data, dtype=dtype, copy=copy,\n"
     ]
    },
    {
     "name": "stdout",
     "output_type": "stream",
     "text": [
      "  Finished RandomizedSearchCV for Group: 207. Best Params: {'n_estimators': 1750, 'max_samples': 14, 'max_features': 6}\n",
      "  Completed processing for Group: 207.\n"
     ]
    },
    {
     "name": "stderr",
     "output_type": "stream",
     "text": [
      "/home/westbrookca2/.local/lib/python3.10/site-packages/numpy/ma/core.py:2846: RuntimeWarning: invalid value encountered in cast\n",
      "  _data = np.array(data, dtype=dtype, copy=copy,\n"
     ]
    },
    {
     "name": "stdout",
     "output_type": "stream",
     "text": [
      "  Finished RandomizedSearchCV for Group: 319. Best Params: {'n_estimators': 3000, 'max_samples': 22, 'max_features': 8}\n",
      "  Completed processing for Group: 319.\n"
     ]
    },
    {
     "name": "stderr",
     "output_type": "stream",
     "text": [
      "/home/westbrookca2/.local/lib/python3.10/site-packages/numpy/ma/core.py:2846: RuntimeWarning: invalid value encountered in cast\n",
      "  _data = np.array(data, dtype=dtype, copy=copy,\n"
     ]
    },
    {
     "name": "stdout",
     "output_type": "stream",
     "text": [
      "  Finished RandomizedSearchCV for Group: 217. Best Params: {'n_estimators': 250, 'max_samples': 32, 'max_features': 98}\n",
      "  Completed processing for Group: 217.\n"
     ]
    },
    {
     "name": "stderr",
     "output_type": "stream",
     "text": [
      "/home/westbrookca2/.local/lib/python3.10/site-packages/numpy/ma/core.py:2846: RuntimeWarning: invalid value encountered in cast\n",
      "  _data = np.array(data, dtype=dtype, copy=copy,\n"
     ]
    },
    {
     "name": "stdout",
     "output_type": "stream",
     "text": [
      "  Finished RandomizedSearchCV for Group: 325. Best Params: {'n_estimators': 4100, 'max_samples': 12, 'max_features': 14}\n",
      "  Completed processing for Group: 325.\n"
     ]
    },
    {
     "name": "stderr",
     "output_type": "stream",
     "text": [
      "/home/westbrookca2/.local/lib/python3.10/site-packages/numpy/ma/core.py:2846: RuntimeWarning: invalid value encountered in cast\n",
      "  _data = np.array(data, dtype=dtype, copy=copy,\n"
     ]
    },
    {
     "name": "stdout",
     "output_type": "stream",
     "text": [
      "  Finished RandomizedSearchCV for Group: 129. Best Params: {'n_estimators': 1700, 'max_samples': 30, 'max_features': 52}\n",
      "  Completed processing for Group: 129.\n"
     ]
    },
    {
     "name": "stderr",
     "output_type": "stream",
     "text": [
      "/home/westbrookca2/.local/lib/python3.10/site-packages/numpy/ma/core.py:2846: RuntimeWarning: invalid value encountered in cast\n",
      "  _data = np.array(data, dtype=dtype, copy=copy,\n"
     ]
    },
    {
     "name": "stdout",
     "output_type": "stream",
     "text": [
      "  Finished RandomizedSearchCV for Group: 333. Best Params: {'n_estimators': 200, 'max_samples': 28, 'max_features': 10}\n",
      "  Completed processing for Group: 333.\n"
     ]
    },
    {
     "name": "stderr",
     "output_type": "stream",
     "text": [
      "/home/westbrookca2/.local/lib/python3.10/site-packages/numpy/ma/core.py:2846: RuntimeWarning: invalid value encountered in cast\n",
      "  _data = np.array(data, dtype=dtype, copy=copy,\n"
     ]
    },
    {
     "name": "stdout",
     "output_type": "stream",
     "text": [
      "  Finished RandomizedSearchCV for Group: 317. Best Params: {'n_estimators': 1300, 'max_samples': 20, 'max_features': 2}\n",
      "  Completed processing for Group: 317.\n",
      "  Finished RandomizedSearchCV for Group: 131. Best Params: {'n_estimators': 3150, 'max_samples': 30, 'max_features': 98}\n"
     ]
    },
    {
     "name": "stderr",
     "output_type": "stream",
     "text": [
      "/home/westbrookca2/.local/lib/python3.10/site-packages/numpy/ma/core.py:2846: RuntimeWarning: invalid value encountered in cast\n",
      "  _data = np.array(data, dtype=dtype, copy=copy,\n"
     ]
    },
    {
     "name": "stdout",
     "output_type": "stream",
     "text": [
      "  Finished RandomizedSearchCV for Group: 212. Best Params: {'n_estimators': 150, 'max_samples': 32, 'max_features': 22}\n",
      "  Completed processing for Group: 212.\n",
      "  Completed processing for Group: 131.\n"
     ]
    },
    {
     "name": "stderr",
     "output_type": "stream",
     "text": [
      "/home/westbrookca2/.local/lib/python3.10/site-packages/numpy/ma/core.py:2846: RuntimeWarning: invalid value encountered in cast\n",
      "  _data = np.array(data, dtype=dtype, copy=copy,\n"
     ]
    },
    {
     "name": "stdout",
     "output_type": "stream",
     "text": [
      "  Finished RandomizedSearchCV for Group: 127. Best Params: {'n_estimators': 300, 'max_samples': 34, 'max_features': 22}\n",
      "  Completed processing for Group: 127.\n"
     ]
    },
    {
     "name": "stderr",
     "output_type": "stream",
     "text": [
      "/home/westbrookca2/.local/lib/python3.10/site-packages/numpy/ma/core.py:2846: RuntimeWarning: invalid value encountered in cast\n",
      "  _data = np.array(data, dtype=dtype, copy=copy,\n"
     ]
    },
    {
     "name": "stdout",
     "output_type": "stream",
     "text": [
      "  Finished RandomizedSearchCV for Group: 290. Best Params: {'n_estimators': 3250, 'max_samples': 22, 'max_features': 2}\n",
      "  Completed processing for Group: 290.\n",
      "  Finished RandomizedSearchCV for Group: 201. Best Params: {'n_estimators': 300, 'max_samples': 20, 'max_features': 58}\n",
      "  Completed processing for Group: 201.\n"
     ]
    },
    {
     "name": "stderr",
     "output_type": "stream",
     "text": [
      "/home/westbrookca2/.local/lib/python3.10/site-packages/numpy/ma/core.py:2846: RuntimeWarning: invalid value encountered in cast\n",
      "  _data = np.array(data, dtype=dtype, copy=copy,\n"
     ]
    },
    {
     "name": "stdout",
     "output_type": "stream",
     "text": [
      "  Finished RandomizedSearchCV for Group: 270. Best Params: {'n_estimators': 1300, 'max_samples': 20, 'max_features': 2}\n",
      "  Completed processing for Group: 270.\n"
     ]
    },
    {
     "name": "stderr",
     "output_type": "stream",
     "text": [
      "/home/westbrookca2/.local/lib/python3.10/site-packages/numpy/ma/core.py:2846: RuntimeWarning: invalid value encountered in cast\n",
      "  _data = np.array(data, dtype=dtype, copy=copy,\n"
     ]
    },
    {
     "name": "stdout",
     "output_type": "stream",
     "text": [
      "  Finished RandomizedSearchCV for Group: 126. Best Params: {'n_estimators': 550, 'max_samples': 28, 'max_features': 70}\n",
      "  Completed processing for Group: 126.\n"
     ]
    },
    {
     "name": "stderr",
     "output_type": "stream",
     "text": [
      "/home/westbrookca2/.local/lib/python3.10/site-packages/numpy/ma/core.py:2846: RuntimeWarning: invalid value encountered in cast\n",
      "  _data = np.array(data, dtype=dtype, copy=copy,\n"
     ]
    },
    {
     "name": "stdout",
     "output_type": "stream",
     "text": [
      "  Finished RandomizedSearchCV for Group: 139. Best Params: {'n_estimators': 150, 'max_samples': 18, 'max_features': 62}\n",
      "  Completed processing for Group: 139.\n"
     ]
    },
    {
     "name": "stderr",
     "output_type": "stream",
     "text": [
      "/home/westbrookca2/.local/lib/python3.10/site-packages/numpy/ma/core.py:2846: RuntimeWarning: invalid value encountered in cast\n",
      "  _data = np.array(data, dtype=dtype, copy=copy,\n"
     ]
    },
    {
     "name": "stdout",
     "output_type": "stream",
     "text": [
      "  Finished RandomizedSearchCV for Group: 104. Best Params: {'n_estimators': 700, 'max_samples': 36, 'max_features': 24}\n"
     ]
    },
    {
     "name": "stderr",
     "output_type": "stream",
     "text": [
      "/home/westbrookca2/.local/lib/python3.10/site-packages/numpy/ma/core.py:2846: RuntimeWarning: invalid value encountered in cast\n",
      "  _data = np.array(data, dtype=dtype, copy=copy,\n"
     ]
    },
    {
     "name": "stdout",
     "output_type": "stream",
     "text": [
      "  Finished RandomizedSearchCV for Group: 206. Best Params: {'n_estimators': 150, 'max_samples': 38, 'max_features': 58}\n",
      "  Completed processing for Group: 104.\n",
      "  Completed processing for Group: 206.\n"
     ]
    },
    {
     "name": "stderr",
     "output_type": "stream",
     "text": [
      "/home/westbrookca2/.local/lib/python3.10/site-packages/numpy/ma/core.py:2846: RuntimeWarning: invalid value encountered in cast\n",
      "  _data = np.array(data, dtype=dtype, copy=copy,\n"
     ]
    },
    {
     "name": "stdout",
     "output_type": "stream",
     "text": [
      "  Finished RandomizedSearchCV for Group: 286. Best Params: {'n_estimators': 650, 'max_samples': 24, 'max_features': 4}\n",
      "  Completed processing for Group: 286.\n"
     ]
    },
    {
     "name": "stderr",
     "output_type": "stream",
     "text": [
      "/home/westbrookca2/.local/lib/python3.10/site-packages/numpy/ma/core.py:2846: RuntimeWarning: invalid value encountered in cast\n",
      "  _data = np.array(data, dtype=dtype, copy=copy,\n"
     ]
    },
    {
     "name": "stdout",
     "output_type": "stream",
     "text": [
      "  Finished RandomizedSearchCV for Group: 133. Best Params: {'n_estimators': 350, 'max_samples': 16, 'max_features': 84}\n",
      "  Completed processing for Group: 133.\n"
     ]
    },
    {
     "name": "stderr",
     "output_type": "stream",
     "text": [
      "/home/westbrookca2/.local/lib/python3.10/site-packages/numpy/ma/core.py:2846: RuntimeWarning: invalid value encountered in cast\n",
      "  _data = np.array(data, dtype=dtype, copy=copy,\n",
      "/home/westbrookca2/.local/lib/python3.10/site-packages/numpy/ma/core.py:2846: RuntimeWarning: invalid value encountered in cast\n",
      "  _data = np.array(data, dtype=dtype, copy=copy,\n",
      "/home/westbrookca2/.local/lib/python3.10/site-packages/numpy/ma/core.py:2846: RuntimeWarning: invalid value encountered in cast\n",
      "  _data = np.array(data, dtype=dtype, copy=copy,\n"
     ]
    },
    {
     "name": "stdout",
     "output_type": "stream",
     "text": [
      "  Finished RandomizedSearchCV for Group: 111. Best Params: {'n_estimators': 850, 'max_samples': 18, 'max_features': 94}\n",
      "  Finished RandomizedSearchCV for Group: 112. Best Params: {'n_estimators': 600, 'max_samples': 34, 'max_features': 82}\n",
      "  Finished RandomizedSearchCV for Group: 132. Best Params: {'n_estimators': 2950, 'max_samples': 34, 'max_features': 56}\n",
      "  Completed processing for Group: 112.\n"
     ]
    },
    {
     "name": "stderr",
     "output_type": "stream",
     "text": [
      "/home/westbrookca2/.local/lib/python3.10/site-packages/numpy/ma/core.py:2846: RuntimeWarning: invalid value encountered in cast\n",
      "  _data = np.array(data, dtype=dtype, copy=copy,\n"
     ]
    },
    {
     "name": "stdout",
     "output_type": "stream",
     "text": [
      "  Completed processing for Group: 111.\n",
      "  Finished RandomizedSearchCV for Group: 247. Best Params: {'n_estimators': 4350, 'max_samples': 12, 'max_features': 2}\n",
      "  Completed processing for Group: 247.\n"
     ]
    },
    {
     "name": "stderr",
     "output_type": "stream",
     "text": [
      "/home/westbrookca2/.local/lib/python3.10/site-packages/numpy/ma/core.py:2846: RuntimeWarning: invalid value encountered in cast\n",
      "  _data = np.array(data, dtype=dtype, copy=copy,\n"
     ]
    },
    {
     "name": "stdout",
     "output_type": "stream",
     "text": [
      "  Finished RandomizedSearchCV for Group: 264. Best Params: {'n_estimators': 500, 'max_samples': 32, 'max_features': 2}\n",
      "  Completed processing for Group: 264.\n",
      "  Completed processing for Group: 132.\n"
     ]
    },
    {
     "name": "stderr",
     "output_type": "stream",
     "text": [
      "/home/westbrookca2/.local/lib/python3.10/site-packages/numpy/ma/core.py:2846: RuntimeWarning: invalid value encountered in cast\n",
      "  _data = np.array(data, dtype=dtype, copy=copy,\n",
      "/home/westbrookca2/.local/lib/python3.10/site-packages/numpy/ma/core.py:2846: RuntimeWarning: invalid value encountered in cast\n",
      "  _data = np.array(data, dtype=dtype, copy=copy,\n"
     ]
    },
    {
     "name": "stdout",
     "output_type": "stream",
     "text": [
      "  Finished RandomizedSearchCV for Group: 234. Best Params: {'n_estimators': 150, 'max_samples': 26, 'max_features': 68}\n",
      "  Completed processing for Group: 234.\n"
     ]
    },
    {
     "name": "stderr",
     "output_type": "stream",
     "text": [
      "/home/westbrookca2/.local/lib/python3.10/site-packages/numpy/ma/core.py:2846: RuntimeWarning: invalid value encountered in cast\n",
      "  _data = np.array(data, dtype=dtype, copy=copy,\n"
     ]
    },
    {
     "name": "stdout",
     "output_type": "stream",
     "text": [
      "  Finished RandomizedSearchCV for Group: 293. Best Params: {'n_estimators': 2050, 'max_samples': 32, 'max_features': 4}\n"
     ]
    },
    {
     "name": "stderr",
     "output_type": "stream",
     "text": [
      "/home/westbrookca2/.local/lib/python3.10/site-packages/numpy/ma/core.py:2846: RuntimeWarning: invalid value encountered in cast\n",
      "  _data = np.array(data, dtype=dtype, copy=copy,\n"
     ]
    },
    {
     "name": "stdout",
     "output_type": "stream",
     "text": [
      "  Finished RandomizedSearchCV for Group: 205. Best Params: {'n_estimators': 4350, 'max_samples': 24, 'max_features': 58}\n",
      "  Completed processing for Group: 293.\n"
     ]
    },
    {
     "name": "stderr",
     "output_type": "stream",
     "text": [
      "/home/westbrookca2/.local/lib/python3.10/site-packages/numpy/ma/core.py:2846: RuntimeWarning: invalid value encountered in cast\n",
      "  _data = np.array(data, dtype=dtype, copy=copy,\n"
     ]
    },
    {
     "name": "stdout",
     "output_type": "stream",
     "text": [
      "  Finished RandomizedSearchCV for Group: 226. Best Params: {'n_estimators': 2300, 'max_samples': 36, 'max_features': 8}\n",
      "  Finished RandomizedSearchCV for Group: 335. Best Params: {'n_estimators': 350, 'max_samples': 16, 'max_features': 22}\n",
      "  Completed processing for Group: 335.\n",
      "  Completed processing for Group: 226.\n"
     ]
    },
    {
     "name": "stderr",
     "output_type": "stream",
     "text": [
      "/home/westbrookca2/.local/lib/python3.10/site-packages/numpy/ma/core.py:2846: RuntimeWarning: invalid value encountered in cast\n",
      "  _data = np.array(data, dtype=dtype, copy=copy,\n"
     ]
    },
    {
     "name": "stdout",
     "output_type": "stream",
     "text": [
      "  Finished RandomizedSearchCV for Group: 113. Best Params: {'n_estimators': 1150, 'max_samples': 22, 'max_features': 74}\n"
     ]
    },
    {
     "name": "stderr",
     "output_type": "stream",
     "text": [
      "/home/westbrookca2/.local/lib/python3.10/site-packages/numpy/ma/core.py:2846: RuntimeWarning: invalid value encountered in cast\n",
      "  _data = np.array(data, dtype=dtype, copy=copy,\n"
     ]
    },
    {
     "name": "stdout",
     "output_type": "stream",
     "text": [
      "  Finished RandomizedSearchCV for Group: 339. Best Params: {'n_estimators': 200, 'max_samples': 12, 'max_features': 74}\n",
      "  Completed processing for Group: 113.\n",
      "  Completed processing for Group: 339.\n"
     ]
    },
    {
     "name": "stderr",
     "output_type": "stream",
     "text": [
      "/home/westbrookca2/.local/lib/python3.10/site-packages/numpy/ma/core.py:2846: RuntimeWarning: invalid value encountered in cast\n",
      "  _data = np.array(data, dtype=dtype, copy=copy,\n"
     ]
    },
    {
     "name": "stdout",
     "output_type": "stream",
     "text": [
      "  Finished RandomizedSearchCV for Group: 122. Best Params: {'n_estimators': 150, 'max_samples': 26, 'max_features': 68}\n",
      "  Completed processing for Group: 205.\n",
      "  Completed processing for Group: 122.\n"
     ]
    },
    {
     "name": "stderr",
     "output_type": "stream",
     "text": [
      "/home/westbrookca2/.local/lib/python3.10/site-packages/numpy/ma/core.py:2846: RuntimeWarning: invalid value encountered in cast\n",
      "  _data = np.array(data, dtype=dtype, copy=copy,\n"
     ]
    },
    {
     "name": "stdout",
     "output_type": "stream",
     "text": [
      "  Finished RandomizedSearchCV for Group: 105. Best Params: {'n_estimators': 100, 'max_samples': 36, 'max_features': 8}\n",
      "  Completed processing for Group: 105.\n"
     ]
    },
    {
     "name": "stderr",
     "output_type": "stream",
     "text": [
      "/home/westbrookca2/.local/lib/python3.10/site-packages/numpy/ma/core.py:2846: RuntimeWarning: invalid value encountered in cast\n",
      "  _data = np.array(data, dtype=dtype, copy=copy,\n"
     ]
    },
    {
     "name": "stdout",
     "output_type": "stream",
     "text": [
      "  Finished RandomizedSearchCV for Group: 211. Best Params: {'n_estimators': 100, 'max_samples': 30, 'max_features': 28}\n",
      "  Completed processing for Group: 211.\n"
     ]
    },
    {
     "name": "stderr",
     "output_type": "stream",
     "text": [
      "/home/westbrookca2/.local/lib/python3.10/site-packages/numpy/ma/core.py:2846: RuntimeWarning: invalid value encountered in cast\n",
      "  _data = np.array(data, dtype=dtype, copy=copy,\n"
     ]
    },
    {
     "name": "stdout",
     "output_type": "stream",
     "text": [
      "  Finished RandomizedSearchCV for Group: 235. Best Params: {'n_estimators': 150, 'max_samples': 22, 'max_features': 90}\n",
      "  Completed processing for Group: 235.\n"
     ]
    },
    {
     "name": "stderr",
     "output_type": "stream",
     "text": [
      "/home/westbrookca2/.local/lib/python3.10/site-packages/numpy/ma/core.py:2846: RuntimeWarning: invalid value encountered in cast\n",
      "  _data = np.array(data, dtype=dtype, copy=copy,\n"
     ]
    },
    {
     "name": "stdout",
     "output_type": "stream",
     "text": [
      "  Finished RandomizedSearchCV for Group: 134. Best Params: {'n_estimators': 1400, 'max_samples': 12, 'max_features': 36}\n",
      "  Completed processing for Group: 134.\n"
     ]
    },
    {
     "name": "stderr",
     "output_type": "stream",
     "text": [
      "/home/westbrookca2/.local/lib/python3.10/site-packages/numpy/ma/core.py:2846: RuntimeWarning: invalid value encountered in cast\n",
      "  _data = np.array(data, dtype=dtype, copy=copy,\n"
     ]
    },
    {
     "name": "stdout",
     "output_type": "stream",
     "text": [
      "  Finished RandomizedSearchCV for Group: 103. Best Params: {'n_estimators': 2100, 'max_samples': 20, 'max_features': 56}\n",
      "  Completed processing for Group: 103.\n"
     ]
    },
    {
     "name": "stderr",
     "output_type": "stream",
     "text": [
      "/home/westbrookca2/.local/lib/python3.10/site-packages/numpy/ma/core.py:2846: RuntimeWarning: invalid value encountered in cast\n",
      "  _data = np.array(data, dtype=dtype, copy=copy,\n"
     ]
    },
    {
     "name": "stdout",
     "output_type": "stream",
     "text": [
      "  Finished RandomizedSearchCV for Group: 102. Best Params: {'n_estimators': 600, 'max_samples': 16, 'max_features': 64}\n",
      "  Completed processing for Group: 102.\n"
     ]
    },
    {
     "name": "stderr",
     "output_type": "stream",
     "text": [
      "/home/westbrookca2/.local/lib/python3.10/site-packages/numpy/ma/core.py:2846: RuntimeWarning: invalid value encountered in cast\n",
      "  _data = np.array(data, dtype=dtype, copy=copy,\n"
     ]
    },
    {
     "name": "stdout",
     "output_type": "stream",
     "text": [
      "  Finished RandomizedSearchCV for Group: 123. Best Params: {'n_estimators': 2450, 'max_samples': 18, 'max_features': 46}\n",
      "  Completed processing for Group: 123.\n",
      "  Finished RandomizedSearchCV for Group: 251. Best Params: {'n_estimators': 2600, 'max_samples': 16, 'max_features': 2}\n",
      "  Completed processing for Group: 251.\n",
      "Outer CV Split 1/72 completed.\n",
      "Outer CV Split 2/72 completed.\n",
      "Outer CV Split 3/72 completed.\n",
      "Outer CV Split 4/72 completed.\n",
      "Outer CV Split 5/72 completed.\n",
      "Outer CV Split 6/72 completed.\n",
      "Outer CV Split 7/72 completed.\n",
      "Outer CV Split 8/72 completed.\n",
      "Outer CV Split 9/72 completed.\n",
      "Outer CV Split 10/72 completed.\n",
      "Outer CV Split 11/72 completed.\n",
      "Outer CV Split 12/72 completed.\n",
      "Outer CV Split 13/72 completed.\n",
      "Outer CV Split 14/72 completed.\n",
      "Outer CV Split 15/72 completed.\n",
      "Outer CV Split 16/72 completed.\n",
      "Outer CV Split 17/72 completed.\n",
      "Outer CV Split 18/72 completed.\n",
      "Outer CV Split 19/72 completed.\n",
      "Outer CV Split 20/72 completed.\n",
      "Outer CV Split 21/72 completed.\n",
      "Outer CV Split 22/72 completed.\n",
      "Outer CV Split 23/72 completed.\n",
      "Outer CV Split 24/72 completed.\n",
      "Outer CV Split 25/72 completed.\n",
      "Outer CV Split 26/72 completed.\n",
      "Outer CV Split 27/72 completed.\n",
      "Outer CV Split 28/72 completed.\n",
      "Outer CV Split 29/72 completed.\n",
      "Outer CV Split 30/72 completed.\n",
      "Outer CV Split 31/72 completed.\n",
      "Outer CV Split 32/72 completed.\n",
      "Outer CV Split 33/72 completed.\n",
      "Outer CV Split 34/72 completed.\n",
      "Outer CV Split 35/72 completed.\n",
      "Outer CV Split 36/72 completed.\n",
      "Outer CV Split 37/72 completed.\n",
      "Outer CV Split 38/72 completed.\n",
      "Outer CV Split 39/72 completed.\n",
      "Outer CV Split 40/72 completed.\n",
      "Outer CV Split 41/72 completed.\n",
      "Outer CV Split 42/72 completed.\n",
      "Outer CV Split 43/72 completed.\n",
      "Outer CV Split 44/72 completed.\n",
      "Outer CV Split 45/72 completed.\n",
      "Outer CV Split 46/72 completed.\n",
      "Outer CV Split 47/72 completed.\n",
      "Outer CV Split 48/72 completed.\n",
      "Outer CV Split 49/72 completed.\n",
      "Outer CV Split 50/72 completed.\n",
      "Outer CV Split 51/72 completed.\n",
      "Outer CV Split 52/72 completed.\n",
      "Outer CV Split 53/72 completed.\n",
      "Outer CV Split 54/72 completed.\n",
      "Outer CV Split 55/72 completed.\n",
      "Outer CV Split 56/72 completed.\n",
      "Outer CV Split 57/72 completed.\n",
      "Outer CV Split 58/72 completed.\n",
      "Outer CV Split 59/72 completed.\n",
      "Outer CV Split 60/72 completed.\n",
      "Outer CV Split 61/72 completed.\n",
      "Outer CV Split 62/72 completed.\n",
      "Outer CV Split 63/72 completed.\n",
      "Outer CV Split 64/72 completed.\n",
      "Outer CV Split 65/72 completed.\n",
      "Outer CV Split 66/72 completed.\n",
      "Outer CV Split 67/72 completed.\n",
      "Outer CV Split 68/72 completed.\n",
      "Outer CV Split 69/72 completed.\n",
      "Outer CV Split 70/72 completed.\n",
      "Outer CV Split 71/72 completed.\n",
      "Outer CV Split 72/72 completed.\n",
      "Unique values in final true values: [1 2 3]\n",
      "Unique values in final predictions: [1 2]\n",
      "Training Metrics:\n",
      "accuracy: Mean = 0.4714, Median = 0.4706, Minimum = 0.3235, Maximum = 0.6471\n",
      "balanced_accuracy: Mean = 0.3904, Median = 0.3875, Minimum = 0.2500, Maximum = 0.5375\n",
      "precision: Mean = 0.4714, Median = 0.4706, Minimum = 0.3235, Maximum = 0.6471\n",
      "recall: Mean = 0.4714, Median = 0.4706, Minimum = 0.3235, Maximum = 0.6471\n",
      "f1_score: Mean = 0.4714, Median = 0.4706, Minimum = 0.3235, Maximum = 0.6471\n",
      "feature_importances: Mean = 0.0020, Median = 0.0020, Minimum = 0.0007, Maximum = 0.0073\n"
     ]
    }
   ],
   "source": [
    "import numpy as np\n",
    "import pandas as pd\n",
    "from sklearn.model_selection import LeaveOneGroupOut, RandomizedSearchCV, KFold\n",
    "from imblearn.ensemble import BalancedRandomForestClassifier  # Updated import\n",
    "from sklearn.metrics import accuracy_score, balanced_accuracy_score, precision_score, recall_score, f1_score\n",
    "from sklearn.base import clone\n",
    "import multiprocessing\n",
    "import json\n",
    "\n",
    "# Function to serialize results to handle non-serializable types\n",
    "def serialize_for_json(obj):\n",
    "    if isinstance(obj, np.int64):\n",
    "        return int(obj)\n",
    "    elif isinstance(obj, np.float64):\n",
    "        return float(obj)\n",
    "    elif isinstance(obj, np.ndarray):\n",
    "        return obj.tolist()  # Convert numpy arrays to lists\n",
    "    return obj\n",
    "\n",
    "# Get data\n",
    "X = testdata_imputed\n",
    "y = testlabels\n",
    "groups = np.array(allsubs)\n",
    "\n",
    "# Define hyperparameter search space\n",
    "param_dist = {\n",
    "    'n_estimators': np.arange(100, 5000, 50),\n",
    "    'max_features': np.arange(2, 100, 2),\n",
    "    'max_samples': np.arange(10, 40, 2)\n",
    "}\n",
    "\n",
    "numiter = 1000\n",
    "\n",
    "# Define the inner and outer CV strategies\n",
    "inner_cv = KFold(n_splits=3, shuffle=True, random_state=1)\n",
    "outer_cv = LeaveOneGroupOut()\n",
    "\n",
    "# Function to evaluate model and return metrics\n",
    "def evaluate_model(train_index, test_index, groups, model, X, y):\n",
    "    X_train, X_test = X[train_index], X[test_index]\n",
    "    y_train, y_test = y[train_index], y[test_index]\n",
    "    \n",
    "    model.fit(X_train, y_train)\n",
    "    y_pred = model.predict(X_test)\n",
    "\n",
    "    metrics = {\n",
    "        'accuracy': accuracy_score(y_test, y_pred),\n",
    "        'balanced_accuracy': balanced_accuracy_score(y_test, y_pred),\n",
    "        'precision': precision_score(y_test, y_pred, average='micro'),\n",
    "        'recall': recall_score(y_test, y_pred, average='micro'),\n",
    "        'f1_score': f1_score(y_test, y_pred, average='micro'),\n",
    "    }\n",
    "\n",
    "    return metrics, y_test, y_pred\n",
    "\n",
    "# Function to compute feature importance\n",
    "def compute_feature_importance(model, X_train):\n",
    "    # Get feature importances directly from the BalancedRandomForest model\n",
    "    feature_importances = model.feature_importances_\n",
    "    return feature_importances\n",
    "\n",
    "# Function to run nested CV for each split\n",
    "def nested_cv_for_split(split):\n",
    "    train_index, test_index = split\n",
    "    group = groups[test_index[0]]  # Get the group (subject) for the test index\n",
    "    model = BalancedRandomForestClassifier(class_weight='balanced', random_state=42,\n",
    "                                          bootstrap=False,\n",
    "                                          sampling_strategy='all',\n",
    "                                          replacement=True)  # Changed to BalancedRandomForestClassifier\n",
    "\n",
    "    # Print when starting the loop for each group (split)\n",
    "    print(f\"Starting Outer Loop for Group: {group}...\")\n",
    "\n",
    "    # Get the condition labels for the training and testing data\n",
    "    train_conditions = y[train_index]\n",
    "    test_conditions = y[test_index]\n",
    "    \n",
    "    # Select training data: conditions W and N\n",
    "    train_condition_mask = np.isin(train_conditions, [1, 2])  # Select only W and N\n",
    "    X_train = X[train_index][train_condition_mask]\n",
    "    y_train = train_conditions[train_condition_mask]\n",
    "    \n",
    "    # Double-check the unique values in y_train to ensure only 1 and 2 are included\n",
    "    print(f\"Unique values in y_train for Group {group}: {np.unique(y_train)}\")\n",
    "    \n",
    "    # Select testing data: conditions W and N (exclude class 3 completely from testing)\n",
    "    test_condition_mask = np.isin(test_conditions, [1, 2, 3])  # Select conditions for testing\n",
    "    X_test = X[test_index][test_condition_mask]\n",
    "    y_test = test_conditions[test_condition_mask]\n",
    "\n",
    "    # Double-check the unique values in y_test to ensure only 1 and 2 are included\n",
    "    #print(f\"Unique values in y_test for Group {group}: {np.unique(y_test)}\")\n",
    "\n",
    "    # Track the train/test split details for the left-out subject\n",
    "    left_out_subject = group\n",
    "    train_subjects = groups[train_index][train_condition_mask]\n",
    "    test_subjects = groups[test_index][test_condition_mask]\n",
    "\n",
    "    # Create a DataFrame to store the train/test info for the split\n",
    "    split_info = pd.DataFrame({\n",
    "        'split': [len(split_details)] * (len(train_subjects) + len(test_subjects)),  # Split number (fold)\n",
    "        'left_out_subject': [left_out_subject] * (len(train_subjects) + len(test_subjects)),  # Left-out subject\n",
    "        'subject': np.concatenate([train_subjects, test_subjects]),  # Concatenate subjects from train and test\n",
    "        'set': ['train'] * len(train_subjects) + ['test'] * len(test_subjects),  # Train or test\n",
    "        'condition': np.concatenate([y_train, y_test])  # Conditions (W, N) for each subject\n",
    "    })\n",
    "    \n",
    "    # Print when RandomizedSearchCV is starting\n",
    "    print(f\"  Running RandomizedSearchCV for Group: {group}...\")\n",
    "\n",
    "    # Inner CV using RandomizedSearchCV\n",
    "    search = RandomizedSearchCV(estimator=model, param_distributions=param_dist, \n",
    "                                n_iter=numiter, cv=inner_cv, random_state=1, refit=True)\n",
    "    search.fit(X_train, y_train)\n",
    "\n",
    "    # Convert np.int64 to regular Python int\n",
    "    best_params = {\n",
    "        'n_estimators': int(search.best_params_['n_estimators']),\n",
    "        'max_samples': int(search.best_params_['max_samples']),\n",
    "        'max_features': int(search.best_params_['max_features'])\n",
    "    }\n",
    "    \n",
    "    print(f\"  Finished RandomizedSearchCV for Group: {group}. Best Params: {best_params}\")\n",
    "\n",
    "    best_model = clone(search.best_estimator_)\n",
    "    metrics, true_labels, predicted_labels = evaluate_model(train_index[train_condition_mask], test_index[test_condition_mask], groups, best_model, X, y)\n",
    "    \n",
    "    # Store the metrics\n",
    "    metrics['group'] = group\n",
    "    \n",
    "    # Get the feature importance from the trained model\n",
    "    feature_importances = compute_feature_importance(best_model, X_train)\n",
    "    \n",
    "    # Store the feature importances along with the metrics\n",
    "    metrics['feature_importances'] = feature_importances.tolist()\n",
    "\n",
    "    # Create a dataframe for results: subject, label, and predicted label\n",
    "    results_df = pd.DataFrame({\n",
    "        'subject': np.repeat(group, len(true_labels)),\n",
    "        'true_label': true_labels,\n",
    "        'predicted_label': predicted_labels\n",
    "    })\n",
    "    \n",
    "    # Print when the loop for the group has finished\n",
    "    print(f\"  Completed processing for Group: {group}.\")\n",
    "\n",
    "    # Return metrics, split details, and results for this split\n",
    "    return metrics, split_info, results_df\n",
    "\n",
    "# Initialize a list to collect all results\n",
    "results = []\n",
    "split_details = []  # List to collect all split details\n",
    "all_predictions = []\n",
    "\n",
    "# Run outer CV with parallel processing and collect output\n",
    "with multiprocessing.Pool(processes=multiprocessing.cpu_count()) as pool:\n",
    "    outer_results = pool.map(nested_cv_for_split, outer_cv.split(X, y, groups))\n",
    "\n",
    "    # Collect and print status\n",
    "    total_splits = len(list(outer_cv.split(X, y, groups)))  # Total number of splits\n",
    "    for i, (metrics, split_info, results_df) in enumerate(outer_results):\n",
    "        # Print status after each outer CV fold is completed\n",
    "        print(f\"Outer CV Split {i+1}/{total_splits} completed.\")\n",
    "        \n",
    "        # Add the results and split details to the main lists\n",
    "        results.append(metrics)\n",
    "        split_details.append(split_info)\n",
    "        all_predictions.append(results_df)\n",
    "\n",
    "# Concatenate all split details into a single DataFrame for easy analysis\n",
    "split_details_df = pd.concat(split_details, ignore_index=True)\n",
    "\n",
    "# Save the split details to a CSV for inspection\n",
    "split_details_df.to_csv('PCC_balanced_WNR_train_test_split_details.csv', index=False)\n",
    "\n",
    "# Combine all prediction dataframes into one\n",
    "predictions_df = pd.concat(all_predictions, ignore_index=True)\n",
    "\n",
    "# Save results to a text file (metrics)\n",
    "with open('PCC_balanced_WNR_model_cv_results_with_importance.txt', 'w') as f:\n",
    "    for res in results:\n",
    "        f.write(json.dumps({key: serialize_for_json(value) for key, value in res.items()}) + '\\n')\n",
    "\n",
    "# Save the prediction results to CSV\n",
    "predictions_df.to_csv('PCC_balanced_WNRpredictions.csv', index=False)\n",
    "\n",
    "# Print out the results DataFrame\n",
    "print(f\"Unique values in final true values: {predictions_df['true_label'].unique()}\")\n",
    "print(f\"Unique values in final predictions: {predictions_df['predicted_label'].unique()}\")\n",
    "\n",
    "# Calculate averages and print them\n",
    "avg_metrics = {}\n",
    "# Loop through the metrics in each outer CV fold\n",
    "for i, (metrics, split_info, results_df) in enumerate(outer_results):\n",
    "    for key in metrics.keys():\n",
    "        if key not in ['split_index', 'group', 'feature_importance_mean', 'feature_importance_std']:\n",
    "            if key not in avg_metrics:\n",
    "                avg_metrics[key] = []\n",
    "            avg_metrics[key].append(metrics[key])\n",
    "\n",
    "# Now calculate the average, median, min, and max for each metric\n",
    "for key, values in avg_metrics.items():\n",
    "    avg = np.mean(values)\n",
    "    median = np.median(values)\n",
    "    minimum = np.min(values)\n",
    "    maximum = np.max(values)\n",
    "    \n",
    "    # Store the metrics in the dictionary\n",
    "    avg_metrics[key] = {\n",
    "        'average': avg,\n",
    "        'median': median,\n",
    "        'min': minimum,\n",
    "        'max': maximum\n",
    "    }\n",
    "\n",
    "# Print metrics and feature importance summary\n",
    "print(\"Training Metrics:\")\n",
    "for key, metrics in avg_metrics.items():\n",
    "    print(f\"{key}: Mean = {metrics['average']:.4f}, Median = {metrics['median']:.4f}, Minimum = {metrics['min']:.4f}, Maximum = {metrics['max']:.4f}\")\n"
   ]
  },
  {
   "cell_type": "markdown",
   "id": "7104c7fc-a0e2-44db-a5b2-5919c09d98a8",
   "metadata": {},
   "source": [
    "# Feature importance"
   ]
  },
  {
   "cell_type": "code",
   "execution_count": 39,
   "id": "bd84fcfc-f4b1-40df-95ed-38c0213a2c0f",
   "metadata": {},
   "outputs": [
    {
     "name": "stderr",
     "output_type": "stream",
     "text": [
      "/tmp/ipykernel_3340612/2549971374.py:45: FutureWarning: \n",
      "\n",
      "Passing `palette` without assigning `hue` is deprecated and will be removed in v0.14.0. Assign the `y` variable to `hue` and set `legend=False` for the same effect.\n",
      "\n",
      "  sns.boxplot(data=long_form_df, x='Decrease in Accuracy', y='Feature', width=0.6, palette='viridis')\n"
     ]
    },
    {
     "data": {
      "image/png": "[encoded data removed]",
      "text/plain": [
       "<Figure size 1400x1000 with 1 Axes>"
      ]
     },
     "metadata": {},
     "output_type": "display_data"
    }
   ],
   "source": [
    "# code to plot the feature importance\n",
    "# this will run a t-test and eliminate features whose importance is not significantly different from zero.\n",
    "import numpy as np\n",
    "import pandas as pd\n",
    "import seaborn as sns\n",
    "import matplotlib.pyplot as plt\n",
    "from sklearn.inspection import permutation_importance\n",
    "from scipy import stats  # Import for t-test\n",
    "\n",
    "# Assuming you already have `outer_results` with feature importance data (mean and std)\n",
    "\n",
    "# Step 1: Extract feature importance values from the outer CV results\n",
    "feature_importance_list = []\n",
    "\n",
    "for res in outer_results:\n",
    "    feature_importance_list.append(res[0]['feature_importance_mean'])\n",
    "\n",
    "# Convert to a DataFrame where each row corresponds to a feature across all splits\n",
    "feature_importance_matrix = np.array(feature_importance_list)  # Shape: (n_splits, n_features)\n",
    "n_features = feature_importance_matrix.shape[1]\n",
    "\n",
    "# Step 2: Perform a t-test for each feature's importance\n",
    "p_values = []\n",
    "for i in range(n_features):\n",
    "    t_stat, p_value = stats.ttest_1samp(feature_importance_matrix[:, i], 0)  # Test if mean is different from 0\n",
    "    p_values.append(p_value)\n",
    "\n",
    "# Step 3: Filter features with p-values < 0.05 (significant)\n",
    "significant_features = np.array(p_values) < 0.05\n",
    "\n",
    "# Filter the feature importance matrix to include only significant features\n",
    "filtered_feature_importance_matrix = feature_importance_matrix[:, significant_features]\n",
    "\n",
    "# Step 4: Create a DataFrame with the filtered feature importances\n",
    "filtered_feature_importance_df = pd.DataFrame(\n",
    "    filtered_feature_importance_matrix,\n",
    "    columns=[f\"Feature_{i+1}\" for i in range(n_features) if significant_features[i]]\n",
    ")\n",
    "\n",
    "# Convert DataFrame to long-form for easier plotting with Seaborn\n",
    "long_form_df = filtered_feature_importance_df.melt(var_name='Feature', value_name='Decrease in Accuracy')\n",
    "\n",
    "# Step 5: Plot boxplot for significant features only\n",
    "plt.figure(figsize=(14, 10))\n",
    "sns.boxplot(data=long_form_df, x='Decrease in Accuracy', y='Feature', width=0.6, palette='viridis')\n",
    "\n",
    "# Add title and labels\n",
    "plt.title('Permutation Feature Importance Across Outer CV Splits (Significant Features)', fontsize=16)\n",
    "plt.xlabel('Decrease in Accuracy (Permutation Importance)', fontsize=14)\n",
    "plt.ylabel('Feature Index', fontsize=14)\n",
    "plt.tight_layout()\n",
    "\n",
    "# Show the plot\n",
    "plt.show()\n",
    "\n",
    "# Optionally, save the plot\n",
    "# plt.savefig('significant_feature_importance_boxplot.png')\n",
    "\n"
   ]
  },
  {
   "cell_type": "code",
   "execution_count": 65,
   "id": "2b64b5e5-dba8-42ad-af98-e4087f02c2cb",
   "metadata": {},
   "outputs": [
    {
     "data": {
      "image/png": "[encoded data removed]",
      "text/plain": [
       "<Figure size 730x350 with 5 Axes>"
      ]
     },
     "metadata": {},
     "output_type": "display_data"
    }
   ],
   "source": [
    "# visualize in the brain\n",
    "import numpy as np\n",
    "import matplotlib.pyplot as plt\n",
    "from nilearn import plotting, datasets\n",
    "from matplotlib import cm\n",
    "import nibabel as nib\n",
    "\n",
    "# Step 1: Fetch the Schaefer 400-parcellation (this will give you the NIfTI file)\n",
    "schaefer_400 = datasets.fetch_atlas_schaefer_2018(n_rois=400)\n",
    "\n",
    "# The filename is the path to the NIfTI file of the Schaefer 400 parcellation\n",
    "atlas_filename = '/home/westbrookca2/nilearn_data/schaefer_2018/rSchaefer2018_400Parcels_7Networks_order_FSLMNI152_2mm.nii'\n",
    "\n",
    "# Step 2: Assuming `feature_importance_df` is a DataFrame with shape (72, 400),\n",
    "# where each column corresponds to a region, we calculate the mean feature importance\n",
    "# Calculate the mean importance across subjects for each region\n",
    "feature_importance_mean = feature_importance_df['Mean Importance']\n",
    "\n",
    "# Step 3: Normalize the importance scores and delete out non-significant ones\n",
    "importance_scaled = (feature_importance_mean - np.min(feature_importance_mean)) / (np.max(feature_importance_mean) - np.min(feature_importance_mean))\n",
    "importance_scaled[~significant_features] = 0\n",
    "\n",
    "# Step 4: Load the Schaefer 400 parcellation image (NIfTI file)\n",
    "atlas_img = nib.load(atlas_filename)\n",
    "\n",
    "# Step 5: Create a 3D image where each region of the brain is assigned its corresponding importance score\n",
    "importance_img_data = np.zeros(atlas_img.shape)\n",
    "\n",
    "# Map the normalized importance values to each region in the parcellation\n",
    "for i in range(1, 401):  # Parcellation regions are labeled from 1 to 400\n",
    "    region_mask = (atlas_img.get_fdata() == i)  # Get the voxels of the current region\n",
    "    importance_img_data[region_mask] = importance_scaled[i-1]  # Assign the normalized importance value\n",
    "\n",
    "# Step 6: Create a new NIfTI image with the importance values for visualization\n",
    "importance_img = nib.Nifti1Image(importance_img_data, affine=atlas_img.affine)\n",
    "\n",
    "# Step 7: Visualize the brain regions with feature importance using nilearn\n",
    "# Use plot_stat_map to visualize the importance values across the brain\n",
    "colormap = plt.colormaps.get_cmap('coolwarm')  # Choose a color map\n",
    "\n",
    "plotting.plot_stat_map(importance_img, title=\"Feature Importance Across Brain Regions\",\n",
    "                       display_mode='ortho', draw_cross=True, colorbar=True, cmap=colormap, threshold=0.7)\n",
    "\n",
    "# Show the plot\n",
    "plt.show()\n",
    "\n",
    "# Save the NIfTI image to a file\n",
    "nifti_filename = \"feature_importance_WNR_model_schaefer400.nii.gz\"  # Set the output filename\n",
    "nib.save(importance_img, nifti_filename)"
   ]
  },
  {
   "cell_type": "code",
   "execution_count": 66,
   "id": "0cfdd04a-fb1e-416f-b587-11e0560ead77",
   "metadata": {},
   "outputs": [
    {
     "data": {
      "text/plain": [
       "0      0.0\n",
       "1      0.0\n",
       "2      0.0\n",
       "3      0.0\n",
       "4      0.0\n",
       "      ... \n",
       "395    0.0\n",
       "396    0.0\n",
       "397    0.0\n",
       "398    0.0\n",
       "399    0.0\n",
       "Name: Mean Importance, Length: 400, dtype: float64"
      ]
     },
     "execution_count": 66,
     "metadata": {},
     "output_type": "execute_result"
    }
   ],
   "source": [
    "importance_scaled"
   ]
  },
  {
   "cell_type": "code",
   "execution_count": null,
   "id": "4956a23c-f194-4b15-b9d8-59fb4f96ba90",
   "metadata": {},
   "outputs": [],
   "source": []
  }
 ],
 "metadata": {
  "kernelspec": {
   "display_name": "Python 3 (ipykernel)",
   "language": "python",
   "name": "python3"
  },
  "language_info": {
   "codemirror_mode": {
    "name": "ipython",
    "version": 3
   },
   "file_extension": ".py",
   "mimetype": "text/x-python",
   "name": "python",
   "nbconvert_exporter": "python",
   "pygments_lexer": "ipython3",
   "version": "3.10.12"
  }
 },
 "nbformat": 4,
 "nbformat_minor": 5
}
